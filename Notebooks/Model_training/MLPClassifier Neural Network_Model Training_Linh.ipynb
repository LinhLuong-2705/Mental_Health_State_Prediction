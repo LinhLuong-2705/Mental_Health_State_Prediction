{
 "cells": [
  {
   "cell_type": "markdown",
   "id": "749784ee",
   "metadata": {},
   "source": [
    "## Advanced Model - MLPClassifier (Neural Network) model training and evaluation"
   ]
  },
  {
   "cell_type": "code",
   "execution_count": 1,
   "id": "1d70bb13",
   "metadata": {},
   "outputs": [
    {
     "name": "stdout",
     "output_type": "stream",
     "text": [
      "=== MLPClassifier Classification Report ===\n",
      "              precision    recall  f1-score   support\n",
      "\n",
      "           0       0.79      0.67      0.72      1121\n",
      "           1       0.99      0.99      0.99     37703\n",
      "\n",
      "    accuracy                           0.99     38824\n",
      "   macro avg       0.89      0.83      0.86     38824\n",
      "weighted avg       0.98      0.99      0.98     38824\n",
      "\n",
      "Accuracy: 0.9852\n"
     ]
    }
   ],
   "source": [
    "import pandas as pd\n",
    "from sklearn.model_selection import train_test_split\n",
    "from sklearn.preprocessing import LabelEncoder\n",
    "from sklearn.neural_network import MLPClassifier\n",
    "from sklearn.metrics import classification_report, accuracy_score\n",
    "\n",
    "# Load dataset\n",
    "df = pd.read_csv(\"C:/Dell/All Documents/Vợ iu/University/DSTI/Course 1 - Machine Learning with Python Labs/Mental_Health_Project/Mental_Health_State_Prediction/Data/final_dataset_for_model_training/final_dataset.csv\")\n",
    "\n",
    "target_col = \"Mental Illness\"\n",
    "\n",
    "# Separate features and target\n",
    "X = df.drop(columns=[target_col])\n",
    "y = df[target_col]\n",
    "\n",
    "# Encode target\n",
    "le_target = LabelEncoder()\n",
    "y_encoded = le_target.fit_transform(y)\n",
    "\n",
    "# Encode categorical features for MLPClassifier\n",
    "X_encoded = X.apply(LabelEncoder().fit_transform)\n",
    "\n",
    "# Train-test split\n",
    "X_train, X_test, y_train, y_test = train_test_split(\n",
    "    X_encoded, y_encoded, test_size=0.2, random_state=42)\n",
    "\n",
    "# Initialize and train MLPClassifier\n",
    "model = MLPClassifier(hidden_layer_sizes=(50,), max_iter=500, random_state=42)\n",
    "model.fit(X_train, y_train)\n",
    "\n",
    "# Predict and evaluate\n",
    "y_pred = model.predict(X_test)\n",
    "\n",
    "print(\"=== MLPClassifier Classification Report ===\")\n",
    "print(classification_report(y_test, y_pred))\n",
    "print(f\"Accuracy: {accuracy_score(y_test, y_pred):.4f}\")\n"
   ]
  },
  {
   "cell_type": "markdown",
   "id": "b5057e6d",
   "metadata": {},
   "source": [
    "# Model Evaluation\n",
    "\n",
    "#Much more realistic results.\n",
    "\n",
    "#Model is very good at predicting the majority class (1) — Mental Illness = YES.\n",
    "\n",
    "#Decent performance on minority class (0):\n",
    "\n",
    "#Precision: 0.79 → Of all predicted \"no mental illness\", 79% were correct.\n",
    "\n",
    "#Recall: 0.67 → Model correctly identified 67% of actual \"no mental illness\" cases.\n",
    "\n",
    "#Overall Accuracy is ~98.5%, but macro-averaged metrics show class 0 is harder.\n",
    "\n"
   ]
  },
  {
   "cell_type": "code",
   "execution_count": 2,
   "id": "df568c0f",
   "metadata": {},
   "outputs": [
    {
     "name": "stdout",
     "output_type": "stream",
     "text": [
      "Fitting 3 folds for each of 32 candidates, totalling 96 fits\n",
      "Best Parameters: {'activation': 'relu', 'alpha': 0.001, 'hidden_layer_sizes': (50,), 'learning_rate': 'constant', 'solver': 'adam'}\n",
      "\n",
      "Classification Report:\n",
      "               precision    recall  f1-score   support\n",
      "\n",
      "           0       0.80      0.48      0.60      1121\n",
      "           1       0.98      1.00      0.99     37703\n",
      "\n",
      "    accuracy                           0.98     38824\n",
      "   macro avg       0.89      0.74      0.80     38824\n",
      "weighted avg       0.98      0.98      0.98     38824\n",
      "\n"
     ]
    }
   ],
   "source": [
    "from sklearn.neural_network import MLPClassifier\n",
    "from sklearn.model_selection import GridSearchCV\n",
    "from sklearn.metrics import classification_report\n",
    "\n",
    "# Step 1: Define parameter grid\n",
    "param_grid = {\n",
    "    'hidden_layer_sizes': [(50,), (100,), (100, 50), (50, 25)],\n",
    "    'activation': ['relu', 'tanh'],\n",
    "    'solver': ['adam'],\n",
    "    'alpha': [0.0001, 0.001],\n",
    "    'learning_rate': ['constant', 'adaptive']\n",
    "}\n",
    "\n",
    "# Step 2: Initialize classifier\n",
    "mlp = MLPClassifier(max_iter=300, random_state=42)\n",
    "\n",
    "# Step 3: Grid search with 3-fold cross-validation\n",
    "grid_search = GridSearchCV(mlp, param_grid, cv=3, scoring='f1_weighted', n_jobs=-1, verbose=2)\n",
    "\n",
    "# Step 4: Fit model\n",
    "grid_search.fit(X_train, y_train)\n",
    "\n",
    "# Step 5: Evaluate on test set\n",
    "y_pred = grid_search.predict(X_test)\n",
    "print(\"Best Parameters:\", grid_search.best_params_)\n",
    "print(\"\\nClassification Report:\\n\", classification_report(y_test, y_pred))\n"
   ]
  },
  {
   "cell_type": "markdown",
   "id": "ba42680a",
   "metadata": {},
   "source": [
    "## Comment after Finetuning:\n",
    "\n",
    "#✅ Overall Accuracy: 98%\n",
    "#Still excellent overall accuracy — but that’s mostly driven by class 1, which is the majority class.\n",
    "\n",
    "#📉 Class 0 (Minority Class) — Still Underperforming\n",
    "#Metric\tValue\n",
    "#Precision\t0.80\n",
    "#Recall\t0.48\n",
    "#F1-score\t0.60\n",
    "\n",
    "#Recall = 0.48: The model is missing over half of the true positives in class 0.\n",
    "\n",
    "#This is concerning if class 0 (mental illness = no?) is important to detect in your use case.\n",
    "\n",
    "#F1-score imbalance means your model is still biased toward class 1 due to class imbalance.\n",
    "\n",
    "#✅ What was done correctly:\n",
    "used GridSearchCV and improved the model’s hyperparameters.\n",
    "\n",
    "The MLP improved from f1 = 0.72 → 0.80 for class 0, and you gained recall, although still weak."
   ]
  }
 ],
 "metadata": {
  "kernelspec": {
   "display_name": "base",
   "language": "python",
   "name": "python3"
  },
  "language_info": {
   "codemirror_mode": {
    "name": "ipython",
    "version": 3
   },
   "file_extension": ".py",
   "mimetype": "text/x-python",
   "name": "python",
   "nbconvert_exporter": "python",
   "pygments_lexer": "ipython3",
   "version": "3.11.5"
  }
 },
 "nbformat": 4,
 "nbformat_minor": 5
}
